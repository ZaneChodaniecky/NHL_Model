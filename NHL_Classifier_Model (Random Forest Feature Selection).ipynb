{
 "cells": [
  {
   "cell_type": "code",
   "execution_count": 33,
   "id": "7018d5cf",
   "metadata": {},
   "outputs": [],
   "source": [
    "# Use with NHL_Model_Data_Transform_v5.py\n",
    "import pandas as pd\n",
    "import numpy as np\n",
    "import seaborn as sns\n",
    "import os\n",
    "\n",
    "import matplotlib.pyplot as plt"
   ]
  },
  {
   "cell_type": "code",
   "execution_count": 34,
   "id": "d57c8e42",
   "metadata": {},
   "outputs": [],
   "source": [
    "df = pd.read_csv(r\"C:\\Users\\zchodaniecky\\OneDrive - Franklin Templeton\\Documents\\Python\\NHL_data\\NHL_Data_Transformed.csv\")\n",
    "#df = pd.read_csv(r\"C:\\Users\\zanec\\OneDrive\\Documents\\Python\\NHL_data\\NHL_Data_Transformed_PCA - Test v1.csv\")"
   ]
  },
  {
   "cell_type": "code",
   "execution_count": 35,
   "id": "592fbdc1",
   "metadata": {},
   "outputs": [
    {
     "name": "stdout",
     "output_type": "stream",
     "text": [
      "<class 'pandas.core.frame.DataFrame'>\n",
      "RangeIndex: 4261 entries, 0 to 4260\n",
      "Data columns (total 21 columns):\n",
      " #   Column                     Non-Null Count  Dtype  \n",
      "---  ------                     --------------  -----  \n",
      " 0   team_Home                  4261 non-null   object \n",
      " 1   gameId                     4261 non-null   int64  \n",
      " 2   home_or_away_Home          4261 non-null   object \n",
      " 3   win_or_lose_Home           4261 non-null   int64  \n",
      " 4   seasonPointsPerGame_Home   4261 non-null   float64\n",
      " 5   goalDiffAvg_Home           4261 non-null   float64\n",
      " 6   hitsDiffAvg_Home           4261 non-null   float64\n",
      " 7   pointsFromGameAvg_Home     4261 non-null   float64\n",
      " 8   fenwickPercentageAvg_Home  4261 non-null   float64\n",
      " 9   reboundsForAvg_Home        4261 non-null   float64\n",
      " 10  team_Away                  4261 non-null   object \n",
      " 11  home_or_away_Away          4261 non-null   object \n",
      " 12  win_or_lose_Away           4261 non-null   int64  \n",
      " 13  seasonPointsPerGame_Away   4261 non-null   float64\n",
      " 14  goalDiffAvg_Away           4261 non-null   float64\n",
      " 15  hitsDiffAvg_Away           4261 non-null   float64\n",
      " 16  pointsFromGameAvg_Away     4261 non-null   float64\n",
      " 17  fenwickPercentageAvg_Away  4261 non-null   float64\n",
      " 18  reboundsForAvg_Away        4261 non-null   float64\n",
      " 19  penaltiesForTotal          4261 non-null   float64\n",
      " 20  penaltiesAgainstTotal      4261 non-null   float64\n",
      "dtypes: float64(14), int64(3), object(4)\n",
      "memory usage: 699.2+ KB\n"
     ]
    }
   ],
   "source": [
    "df.info()"
   ]
  },
  {
   "cell_type": "code",
   "execution_count": null,
   "id": "22666c48",
   "metadata": {},
   "outputs": [],
   "source": []
  },
  {
   "cell_type": "code",
   "execution_count": 36,
   "id": "3e1a3ed4",
   "metadata": {},
   "outputs": [],
   "source": [
    "df = df.drop(columns=['team_Home','team_Away','gameId','home_or_away_Home','home_or_away_Away','win_or_lose_Away'])"
   ]
  },
  {
   "cell_type": "code",
   "execution_count": 37,
   "id": "4cb316a0",
   "metadata": {},
   "outputs": [],
   "source": [
    "# df.hist(bins=50, figsize=(20,15))\n",
    "# plt.show()"
   ]
  },
  {
   "cell_type": "code",
   "execution_count": 38,
   "id": "c5b619ee",
   "metadata": {},
   "outputs": [],
   "source": [
    "# Heatmap to visualize correlations\n",
    "corr_matrix = df.corr(numeric_only=True)\n",
    "# sns.heatmap(corr_matrix, cmap=\"PiYG\")"
   ]
  },
  {
   "cell_type": "code",
   "execution_count": 39,
   "id": "7f07f8e8",
   "metadata": {},
   "outputs": [
    {
     "data": {
      "text/plain": [
       "win_or_lose_Home             1.000000\n",
       "seasonPointsPerGame_Home     0.308311\n",
       "fenwickPercentageAvg_Home    0.139362\n",
       "goalDiffAvg_Home             0.076082\n",
       "pointsFromGameAvg_Home       0.072489\n",
       "hitsDiffAvg_Away             0.057848\n",
       "reboundsForAvg_Home          0.041695\n",
       "penaltiesAgainstTotal        0.021285\n",
       "penaltiesForTotal           -0.016758\n",
       "hitsDiffAvg_Home            -0.022717\n",
       "reboundsForAvg_Away         -0.048594\n",
       "goalDiffAvg_Away            -0.085647\n",
       "pointsFromGameAvg_Away      -0.091419\n",
       "fenwickPercentageAvg_Away   -0.143173\n",
       "seasonPointsPerGame_Away    -0.302446\n",
       "Name: win_or_lose_Home, dtype: float64"
      ]
     },
     "execution_count": 39,
     "metadata": {},
     "output_type": "execute_result"
    }
   ],
   "source": [
    "corr_matrix['win_or_lose_Home'].sort_values(ascending=False)"
   ]
  },
  {
   "cell_type": "code",
   "execution_count": 40,
   "id": "0afde53a",
   "metadata": {},
   "outputs": [],
   "source": [
    "# Visualize distributions of attributes\n",
    "# from pandas.plotting import scatter_matrix\n",
    "\n",
    "# attributes = ['fenwickPercentageAvg_Home','goalDiffAvg_Home','seasonPointsPerGame_Home','seasonPointsPerGame_Away']\n",
    "# scatter_matrix(df[attributes], figsize=(12,8));"
   ]
  },
  {
   "cell_type": "code",
   "execution_count": 41,
   "id": "51f8fc80",
   "metadata": {},
   "outputs": [],
   "source": [
    "# These are tentative just to test\n",
    "\n",
    "df_Final = df\n",
    "# df_Final = df.drop(columns=['corsiPercentageAvg_Away','penaltiesAgainstTotal','shotsOnGoalDiffAvg_Away'])"
   ]
  },
  {
   "cell_type": "code",
   "execution_count": 42,
   "id": "0e1164bd",
   "metadata": {},
   "outputs": [],
   "source": [
    "from sklearn.model_selection import train_test_split\n",
    "\n",
    "# Split into 80% training data and 20% testing data\n",
    "train_set, test_set = train_test_split(df_Final, test_size=0.2, random_state=42)\n",
    "\n",
    "nhl = train_set.drop('win_or_lose_Home', axis=1)\n",
    "nhl_labels = train_set['win_or_lose_Home'].copy()\n",
    "\n",
    "df_Final = df_Final.drop('win_or_lose_Home', axis=1)"
   ]
  },
  {
   "cell_type": "code",
   "execution_count": 43,
   "id": "22fb5d7b",
   "metadata": {},
   "outputs": [],
   "source": [
    "# Pipeline constructor used to run transformation steps in order\n",
    "from sklearn.pipeline import Pipeline\n",
    "from sklearn.preprocessing import StandardScaler\n",
    "\n",
    "num_pipeline = Pipeline([\n",
    "    ('std_scaler', StandardScaler()),\n",
    "])\n",
    "\n",
    "nhl_prepared = num_pipeline.fit_transform(nhl)"
   ]
  },
  {
   "cell_type": "code",
   "execution_count": null,
   "id": "e30905c0",
   "metadata": {},
   "outputs": [],
   "source": []
  },
  {
   "cell_type": "code",
   "execution_count": 44,
   "id": "1d484ee7",
   "metadata": {},
   "outputs": [],
   "source": [
    "# Fine Tune the hyperparameters of RandomForest model\n",
    "# from sklearn.model_selection import GridSearchCV\n",
    "\n",
    "# param_grid = [{'n_estimators' : [100,500,1000], 'max_leaf_nodes': [10,16,25,50], 'n_jobs' : [-1]},\n",
    "#               {'bootstrap': [False], 'n_estimators' : [100,500,1000], 'max_leaf_nodes': [10,16,25,50], 'n_jobs' : [-1]},]\n",
    "\n",
    "# rnd_clf_test = RandomForestClassifier()\n",
    "\n",
    "# grid_search = GridSearchCV(rnd_clf_test, param_grid, cv=5, scoring='neg_mean_squared_error', return_train_score=True)\n",
    "\n",
    "# grid_search.fit(nhl_prepared,nhl_labels)\n",
    "\n",
    "# grid_search.best_params_"
   ]
  },
  {
   "cell_type": "code",
   "execution_count": 45,
   "id": "768b310d",
   "metadata": {},
   "outputs": [],
   "source": [
    "# cvres = grid_search.cv_results_\n",
    "# results = []\n",
    "# for mean_scores, params in zip(cvres[\"mean_test_score\"], cvres[\"params\"]):\n",
    "#     results.append([np.sqrt(-mean_scores),params])\n",
    "\n",
    "# results2 = sorted(results, key=lambda x: x[0])\n",
    "# print(*results2, sep = '\\n')"
   ]
  },
  {
   "cell_type": "code",
   "execution_count": null,
   "id": "c495c32a",
   "metadata": {},
   "outputs": [],
   "source": []
  },
  {
   "cell_type": "code",
   "execution_count": null,
   "id": "bccae1c6",
   "metadata": {},
   "outputs": [],
   "source": []
  },
  {
   "cell_type": "code",
   "execution_count": null,
   "id": "119b0c03",
   "metadata": {},
   "outputs": [],
   "source": []
  },
  {
   "cell_type": "code",
   "execution_count": 48,
   "id": "75e2a4ac",
   "metadata": {},
   "outputs": [],
   "source": []
  },
  {
   "cell_type": "code",
   "execution_count": 49,
   "id": "040a4150",
   "metadata": {},
   "outputs": [
    {
     "data": {
      "text/html": [
       "<style>#sk-container-id-2 {color: black;background-color: white;}#sk-container-id-2 pre{padding: 0;}#sk-container-id-2 div.sk-toggleable {background-color: white;}#sk-container-id-2 label.sk-toggleable__label {cursor: pointer;display: block;width: 100%;margin-bottom: 0;padding: 0.3em;box-sizing: border-box;text-align: center;}#sk-container-id-2 label.sk-toggleable__label-arrow:before {content: \"▸\";float: left;margin-right: 0.25em;color: #696969;}#sk-container-id-2 label.sk-toggleable__label-arrow:hover:before {color: black;}#sk-container-id-2 div.sk-estimator:hover label.sk-toggleable__label-arrow:before {color: black;}#sk-container-id-2 div.sk-toggleable__content {max-height: 0;max-width: 0;overflow: hidden;text-align: left;background-color: #f0f8ff;}#sk-container-id-2 div.sk-toggleable__content pre {margin: 0.2em;color: black;border-radius: 0.25em;background-color: #f0f8ff;}#sk-container-id-2 input.sk-toggleable__control:checked~div.sk-toggleable__content {max-height: 200px;max-width: 100%;overflow: auto;}#sk-container-id-2 input.sk-toggleable__control:checked~label.sk-toggleable__label-arrow:before {content: \"▾\";}#sk-container-id-2 div.sk-estimator input.sk-toggleable__control:checked~label.sk-toggleable__label {background-color: #d4ebff;}#sk-container-id-2 div.sk-label input.sk-toggleable__control:checked~label.sk-toggleable__label {background-color: #d4ebff;}#sk-container-id-2 input.sk-hidden--visually {border: 0;clip: rect(1px 1px 1px 1px);clip: rect(1px, 1px, 1px, 1px);height: 1px;margin: -1px;overflow: hidden;padding: 0;position: absolute;width: 1px;}#sk-container-id-2 div.sk-estimator {font-family: monospace;background-color: #f0f8ff;border: 1px dotted black;border-radius: 0.25em;box-sizing: border-box;margin-bottom: 0.5em;}#sk-container-id-2 div.sk-estimator:hover {background-color: #d4ebff;}#sk-container-id-2 div.sk-parallel-item::after {content: \"\";width: 100%;border-bottom: 1px solid gray;flex-grow: 1;}#sk-container-id-2 div.sk-label:hover label.sk-toggleable__label {background-color: #d4ebff;}#sk-container-id-2 div.sk-serial::before {content: \"\";position: absolute;border-left: 1px solid gray;box-sizing: border-box;top: 0;bottom: 0;left: 50%;z-index: 0;}#sk-container-id-2 div.sk-serial {display: flex;flex-direction: column;align-items: center;background-color: white;padding-right: 0.2em;padding-left: 0.2em;position: relative;}#sk-container-id-2 div.sk-item {position: relative;z-index: 1;}#sk-container-id-2 div.sk-parallel {display: flex;align-items: stretch;justify-content: center;background-color: white;position: relative;}#sk-container-id-2 div.sk-item::before, #sk-container-id-2 div.sk-parallel-item::before {content: \"\";position: absolute;border-left: 1px solid gray;box-sizing: border-box;top: 0;bottom: 0;left: 50%;z-index: -1;}#sk-container-id-2 div.sk-parallel-item {display: flex;flex-direction: column;z-index: 1;position: relative;background-color: white;}#sk-container-id-2 div.sk-parallel-item:first-child::after {align-self: flex-end;width: 50%;}#sk-container-id-2 div.sk-parallel-item:last-child::after {align-self: flex-start;width: 50%;}#sk-container-id-2 div.sk-parallel-item:only-child::after {width: 0;}#sk-container-id-2 div.sk-dashed-wrapped {border: 1px dashed gray;margin: 0 0.4em 0.5em 0.4em;box-sizing: border-box;padding-bottom: 0.4em;background-color: white;}#sk-container-id-2 div.sk-label label {font-family: monospace;font-weight: bold;display: inline-block;line-height: 1.2em;}#sk-container-id-2 div.sk-label-container {text-align: center;}#sk-container-id-2 div.sk-container {/* jupyter's `normalize.less` sets `[hidden] { display: none; }` but bootstrap.min.css set `[hidden] { display: none !important; }` so we also need the `!important` here to be able to override the default hidden behavior on the sphinx rendered scikit-learn.org. See: https://github.com/scikit-learn/scikit-learn/issues/21755 */display: inline-block !important;position: relative;}#sk-container-id-2 div.sk-text-repr-fallback {display: none;}</style><div id=\"sk-container-id-2\" class=\"sk-top-container\"><div class=\"sk-text-repr-fallback\"><pre>RandomForestClassifier(max_leaf_nodes=50, n_estimators=500, n_jobs=-1,\n",
       "                       random_state=69)</pre><b>In a Jupyter environment, please rerun this cell to show the HTML representation or trust the notebook. <br />On GitHub, the HTML representation is unable to render, please try loading this page with nbviewer.org.</b></div><div class=\"sk-container\" hidden><div class=\"sk-item\"><div class=\"sk-estimator sk-toggleable\"><input class=\"sk-toggleable__control sk-hidden--visually\" id=\"sk-estimator-id-2\" type=\"checkbox\" checked><label for=\"sk-estimator-id-2\" class=\"sk-toggleable__label sk-toggleable__label-arrow\">RandomForestClassifier</label><div class=\"sk-toggleable__content\"><pre>RandomForestClassifier(max_leaf_nodes=50, n_estimators=500, n_jobs=-1,\n",
       "                       random_state=69)</pre></div></div></div></div></div>"
      ],
      "text/plain": [
       "RandomForestClassifier(max_leaf_nodes=50, n_estimators=500, n_jobs=-1,\n",
       "                       random_state=69)"
      ]
     },
     "execution_count": 49,
     "metadata": {},
     "output_type": "execute_result"
    }
   ],
   "source": [
    "# Try using a Random Forest\n",
    "from sklearn.ensemble import RandomForestClassifier\n",
    "\n",
    "rnd_clf = RandomForestClassifier(n_estimators=500, max_leaf_nodes=50, n_jobs=-1, random_state=69)\n",
    "\n",
    "rnd_clf.fit(nhl, nhl_labels)"
   ]
  },
  {
   "cell_type": "code",
   "execution_count": 58,
   "id": "56bda556",
   "metadata": {},
   "outputs": [
    {
     "data": {
      "text/plain": [
       "array([[ 996,  605],\n",
       "       [ 518, 1289]], dtype=int64)"
      ]
     },
     "execution_count": 58,
     "metadata": {},
     "output_type": "execute_result"
    }
   ],
   "source": [
    "from sklearn.model_selection import cross_val_predict\n",
    "\n",
    "y_train_pred = cross_val_predict(rnd_clf, nhl_prepared, nhl_labels, cv=5)\n",
    "\n",
    "from sklearn.metrics import confusion_matrix\n",
    "\n",
    "confusion_matrix(nhl_labels, y_train_pred)"
   ]
  },
  {
   "cell_type": "code",
   "execution_count": 59,
   "id": "0eb4dde6",
   "metadata": {},
   "outputs": [
    {
     "name": "stdout",
     "output_type": "stream",
     "text": [
      "When claiming is a win, correct % is  0.6805702217529039\n",
      "Detected % of wins 0.7133370226895407\n",
      "F1 score is  0.6965684950013511\n",
      "Accuracy score is  0.670481220657277\n"
     ]
    }
   ],
   "source": [
    "from sklearn.metrics import precision_score, recall_score, f1_score, accuracy_score\n",
    "\n",
    "print('When claiming is a win, correct % is ', precision_score(nhl_labels, y_train_pred))\n",
    "\n",
    "print('Detected % of wins' ,recall_score(nhl_labels, y_train_pred))\n",
    "\n",
    "print('F1 score is ', f1_score(nhl_labels, y_train_pred))\n",
    "\n",
    "print('Accuracy score is ', accuracy_score(nhl_labels, y_train_pred))"
   ]
  },
  {
   "cell_type": "code",
   "execution_count": null,
   "id": "ae6e9a9a",
   "metadata": {},
   "outputs": [],
   "source": []
  },
  {
   "cell_type": "code",
   "execution_count": 52,
   "id": "e90cecc8",
   "metadata": {},
   "outputs": [
    {
     "name": "stdout",
     "output_type": "stream",
     "text": [
      "seasonPointsPerGame_Home 24.13\n",
      "goalDiffAvg_Home 4.09\n",
      "hitsDiffAvg_Home 3.83\n",
      "pointsFromGameAvg_Home 3.99\n",
      "fenwickPercentageAvg_Home 5.1\n",
      "reboundsForAvg_Home 3.6\n",
      "seasonPointsPerGame_Away 26.27\n",
      "goalDiffAvg_Away 4.31\n",
      "hitsDiffAvg_Away 4.1\n",
      "pointsFromGameAvg_Away 4.25\n",
      "fenwickPercentageAvg_Away 5.75\n",
      "reboundsForAvg_Away 3.52\n",
      "penaltiesForTotal 3.4\n",
      "penaltiesAgainstTotal 3.65\n"
     ]
    }
   ],
   "source": [
    "# Use this to see importance of each feature in the Random Forest\n",
    "# Take colmumn names from Final DataFrame, need to skip the label though\n",
    "\n",
    "for name, score in zip(nhl.columns.values,rnd_clf.feature_importances_):\n",
    "    print(name,round(score*100,2))"
   ]
  },
  {
   "cell_type": "code",
   "execution_count": 53,
   "id": "fda17e6f",
   "metadata": {},
   "outputs": [
    {
     "data": {
      "image/png": "[encoded data removed]",
      "text/plain": [
       "<Figure size 640x480 with 1 Axes>"
      ]
     },
     "metadata": {},
     "output_type": "display_data"
    }
   ],
   "source": [
    "import pandas as pd\n",
    "\n",
    "forest_importances = pd.Series(rnd_clf.feature_importances_, index=nhl.columns.values)\n",
    "std = np.std([tree.feature_importances_ for tree in rnd_clf.estimators_], axis=0)\n",
    "\n",
    "fig, ax = plt.subplots()\n",
    "forest_importances.plot.bar(yerr=std, ax=ax)\n",
    "ax.set_title(\"Feature importances using MDI\")\n",
    "ax.set_ylabel(\"Mean decrease in impurity\")\n",
    "fig.tight_layout()"
   ]
  },
  {
   "cell_type": "code",
   "execution_count": 54,
   "id": "9bdade10",
   "metadata": {},
   "outputs": [],
   "source": [
    "# # High Cardinality (although not the case here) can caues the built in feature_importance to be innacurate\n",
    "# # This method takes longer but is more accurate in those situations\n",
    "\n",
    "# from sklearn.inspection import permutation_importance\n",
    "\n",
    "# result = permutation_importance(\n",
    "#     rnd_clf, nhl_prepared_PCA, nhl_labels, n_repeats=10, random_state=42, n_jobs=2\n",
    "# )\n",
    "\n",
    "# fig, ax = plt.subplots()\n",
    "# forest_importances.plot.bar(yerr=result.importances_std, ax=ax)\n",
    "# ax.set_title(\"Feature importances using permutation on full model\")\n",
    "# ax.set_ylabel(\"Mean accuracy decrease\")\n",
    "# fig.tight_layout()\n",
    "# plt.show()"
   ]
  },
  {
   "cell_type": "code",
   "execution_count": 55,
   "id": "3ed74f05",
   "metadata": {},
   "outputs": [],
   "source": [
    "df_Predict = pd.read_csv(r\"C:\\Users\\zchodaniecky\\OneDrive - Franklin Templeton\\Documents\\Python\\NHL_data\\NHL_Data_Predict.csv\")\n",
    "#df_Predict = pd.read_csv(r\"C:\\Users\\zanec\\OneDrive\\Documents\\Python\\NHL_data\\NHL_Data_Predict.csv\")"
   ]
  },
  {
   "cell_type": "code",
   "execution_count": 56,
   "id": "eae8d63d",
   "metadata": {},
   "outputs": [
    {
     "name": "stderr",
     "output_type": "stream",
     "text": [
      "C:\\Users\\zchodaniecky\\Anaconda3\\lib\\site-packages\\sklearn\\base.py:432: UserWarning: X has feature names, but PCA was fitted without feature names\n",
      "  warnings.warn(\n"
     ]
    },
    {
     "data": {
      "text/plain": [
       "array([['WSH', 1],\n",
       "       ['TBL', 1],\n",
       "       ['LAK', 1],\n",
       "       ['DET', 1],\n",
       "       ['PIT', 0],\n",
       "       ['NJD', 0],\n",
       "       ['NYR', 1],\n",
       "       ['EDM', 1]], dtype=object)"
      ]
     },
     "execution_count": 56,
     "metadata": {},
     "output_type": "execute_result"
    }
   ],
   "source": [
    "nhl_Predict = df_Predict.iloc[:,2:]\n",
    "\n",
    "\n",
    "np.array((df_Predict.iloc[:,1].values,rnd_clf.predict(nhl_Predict))).T"
   ]
  },
  {
   "cell_type": "code",
   "execution_count": null,
   "id": "c91ad2d2",
   "metadata": {},
   "outputs": [],
   "source": []
  },
  {
   "cell_type": "code",
   "execution_count": 57,
   "id": "1818ef65",
   "metadata": {},
   "outputs": [
    {
     "data": {
      "text/plain": [
       "array(['seasonPointsPerGame_Home', 'goalDiffAvg_Home', 'hitsDiffAvg_Home',\n",
       "       'pointsFromGameAvg_Home', 'fenwickPercentageAvg_Home',\n",
       "       'reboundsForAvg_Home', 'seasonPointsPerGame_Away',\n",
       "       'goalDiffAvg_Away', 'hitsDiffAvg_Away', 'pointsFromGameAvg_Away',\n",
       "       'fenwickPercentageAvg_Away', 'reboundsForAvg_Away',\n",
       "       'penaltiesForTotal', 'penaltiesAgainstTotal'], dtype=object)"
      ]
     },
     "execution_count": 57,
     "metadata": {},
     "output_type": "execute_result"
    }
   ],
   "source": []
  }
 ],
 "metadata": {
  "kernelspec": {
   "display_name": "Python 3 (ipykernel)",
   "language": "python",
   "name": "python3"
  },
  "language_info": {
   "codemirror_mode": {
    "name": "ipython",
    "version": 3
   },
   "file_extension": ".py",
   "mimetype": "text/x-python",
   "name": "python",
   "nbconvert_exporter": "python",
   "pygments_lexer": "ipython3",
   "version": "3.9.12"
  }
 },
 "nbformat": 4,
 "nbformat_minor": 5
}

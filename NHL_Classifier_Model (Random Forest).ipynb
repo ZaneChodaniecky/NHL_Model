{
 "cells": [
  {
   "cell_type": "code",
   "execution_count": 2,
   "id": "7018d5cf",
   "metadata": {},
   "outputs": [],
   "source": [
    "# Use with NHL_Model_Data_Transform_v5.py\n",
    "import pandas as pd\n",
    "import numpy as np\n",
    "import seaborn as sns\n",
    "import os\n",
    "\n",
    "import matplotlib.pyplot as plt\n",
    "\n",
    "rng = 69"
   ]
  },
  {
   "cell_type": "code",
   "execution_count": 3,
   "id": "d57c8e42",
   "metadata": {},
   "outputs": [],
   "source": [
    "df = pd.read_csv(r\"C:\\Users\\zchodaniecky\\OneDrive - Franklin Templeton\\Documents\\Python\\NHL_data\\NHL_Data_Transformed.csv\")\n",
    "#df = pd.read_csv(r\"C:\\Users\\zanec\\OneDrive\\Documents\\Python\\NHL_data\\NHL_Data_Transformed_PCA - Test v1.csv\")"
   ]
  },
  {
   "cell_type": "code",
   "execution_count": 4,
   "id": "592fbdc1",
   "metadata": {},
   "outputs": [],
   "source": [
    "# df.info()"
   ]
  },
  {
   "cell_type": "code",
   "execution_count": null,
   "id": "22666c48",
   "metadata": {},
   "outputs": [],
   "source": []
  },
  {
   "cell_type": "code",
   "execution_count": 5,
   "id": "3e1a3ed4",
   "metadata": {},
   "outputs": [],
   "source": [
    "df = df.drop(columns=['team_Home','team_Away','gameId','home_or_away_Home','home_or_away_Away','win_or_lose_Away'])"
   ]
  },
  {
   "cell_type": "code",
   "execution_count": 6,
   "id": "4cb316a0",
   "metadata": {},
   "outputs": [],
   "source": [
    "# df.hist(bins=50, figsize=(20,15))\n",
    "# plt.show()"
   ]
  },
  {
   "cell_type": "code",
   "execution_count": 7,
   "id": "c5b619ee",
   "metadata": {},
   "outputs": [],
   "source": [
    "# Heatmap to visualize correlations\n",
    "corr_matrix = df.corr(numeric_only=True)\n",
    "# sns.heatmap(corr_matrix, cmap=\"PiYG\")"
   ]
  },
  {
   "cell_type": "code",
   "execution_count": 8,
   "id": "7f07f8e8",
   "metadata": {},
   "outputs": [
    {
     "data": {
      "text/plain": [
       "win_or_lose_Home             1.000000\n",
       "seasonPointsPerGame_Home     0.299766\n",
       "fenwickPercentageAvg_Home    0.163282\n",
       "goalDiffAvg_Home             0.119460\n",
       "pointsFromGameAvg_Home       0.113631\n",
       "hitsDiffAvg_Away             0.080313\n",
       "reboundsForAvg_Home          0.059237\n",
       "penaltiesAgainstTotal        0.031212\n",
       "penaltiesForTotal           -0.019398\n",
       "hitsDiffAvg_Home            -0.043300\n",
       "reboundsForAvg_Away         -0.059421\n",
       "pointsFromGameAvg_Away      -0.117607\n",
       "goalDiffAvg_Away            -0.118270\n",
       "fenwickPercentageAvg_Away   -0.172017\n",
       "seasonPointsPerGame_Away    -0.290752\n",
       "Name: win_or_lose_Home, dtype: float64"
      ]
     },
     "execution_count": 8,
     "metadata": {},
     "output_type": "execute_result"
    }
   ],
   "source": [
    "corr_matrix['win_or_lose_Home'].sort_values(ascending=False)"
   ]
  },
  {
   "cell_type": "code",
   "execution_count": 9,
   "id": "0afde53a",
   "metadata": {},
   "outputs": [],
   "source": [
    "# Visualize distributions of attributes\n",
    "# from pandas.plotting import scatter_matrix\n",
    "\n",
    "# attributes = ['fenwickPercentageAvg_Home','goalDiffAvg_Home','seasonPointsPerGame_Home','seasonPointsPerGame_Away']\n",
    "# scatter_matrix(df[attributes], figsize=(12,8));"
   ]
  },
  {
   "cell_type": "code",
   "execution_count": 10,
   "id": "51f8fc80",
   "metadata": {},
   "outputs": [],
   "source": [
    "# These are tentative just to test\n",
    "\n",
    "df_Final = df\n",
    "# df_Final = df.drop(columns=['corsiPercentageAvg_Away','penaltiesAgainstTotal','shotsOnGoalDiffAvg_Away'])"
   ]
  },
  {
   "cell_type": "code",
   "execution_count": 11,
   "id": "0e1164bd",
   "metadata": {},
   "outputs": [],
   "source": [
    "from sklearn.model_selection import train_test_split\n",
    "\n",
    "# Split into 80% training data and 20% testing data\n",
    "train_set, test_set = train_test_split(df_Final, test_size=0.2, random_state=rng)\n",
    "\n",
    "nhl = train_set.drop('win_or_lose_Home', axis=1)\n",
    "nhl_labels = train_set['win_or_lose_Home'].copy()\n",
    "\n",
    "X_train = train_set.drop('win_or_lose_Home', axis=1)\n",
    "Y_train = train_set['win_or_lose_Home'].copy()\n",
    "X_test = test_set.drop('win_or_lose_Home', axis=1)\n",
    "Y_test = test_set['win_or_lose_Home'].copy()\n",
    "\n",
    "\n",
    "df_Final = df_Final.drop('win_or_lose_Home', axis=1)"
   ]
  },
  {
   "cell_type": "code",
   "execution_count": 12,
   "id": "22fb5d7b",
   "metadata": {},
   "outputs": [],
   "source": [
    "# Pipeline constructor used to run transformation steps in order\n",
    "from sklearn.pipeline import Pipeline\n",
    "from sklearn.preprocessing import StandardScaler\n",
    "\n",
    "num_pipeline = Pipeline([\n",
    "    ('std_scaler', StandardScaler()),\n",
    "])\n",
    "\n",
    "X_train_prepared= num_pipeline.fit_transform(X_train)\n",
    "X_test_prepared= num_pipeline.fit_transform(X_test)\n"
   ]
  },
  {
   "cell_type": "code",
   "execution_count": null,
   "id": "e30905c0",
   "metadata": {},
   "outputs": [],
   "source": []
  },
  {
   "cell_type": "code",
   "execution_count": 13,
   "id": "1d484ee7",
   "metadata": {},
   "outputs": [],
   "source": [
    "# Fine Tune the hyperparameters of RandomForest model\n",
    "# from sklearn.model_selection import GridSearchCV\n",
    "\n",
    "# param_grid = [{'n_estimators' : [100,500,1000], 'max_leaf_nodes': [10,16,25,50], 'n_jobs' : [-1]},\n",
    "#               {'bootstrap': [False], 'n_estimators' : [100,500,1000], 'max_leaf_nodes': [10,16,25,50], 'n_jobs' : [-1]},]\n",
    "\n",
    "# rnd_clf_test = RandomForestClassifier()\n",
    "\n",
    "# grid_search = GridSearchCV(rnd_clf_test, param_grid, cv=5, scoring='neg_mean_squared_error', return_train_score=True)\n",
    "\n",
    "# grid_search.fit(nhl_prepared,nhl_labels)\n",
    "\n",
    "# grid_search.best_params_"
   ]
  },
  {
   "cell_type": "code",
   "execution_count": 14,
   "id": "768b310d",
   "metadata": {},
   "outputs": [],
   "source": [
    "# cvres = grid_search.cv_results_\n",
    "# results = []\n",
    "# for mean_scores, params in zip(cvres[\"mean_test_score\"], cvres[\"params\"]):\n",
    "#     results.append([np.sqrt(-mean_scores),params])\n",
    "\n",
    "# results2 = sorted(results, key=lambda x: x[0])\n",
    "# print(*results2, sep = '\\n')"
   ]
  },
  {
   "cell_type": "code",
   "execution_count": null,
   "id": "c495c32a",
   "metadata": {},
   "outputs": [],
   "source": []
  },
  {
   "cell_type": "code",
   "execution_count": 15,
   "id": "bccae1c6",
   "metadata": {},
   "outputs": [
    {
     "data": {
      "text/plain": [
       "array([0.22591297, 0.19292614, 0.12300843, 0.08941453, 0.07941566,\n",
       "       0.06279289, 0.05664563, 0.04323525, 0.03690067, 0.02802503,\n",
       "       0.02557545])"
      ]
     },
     "execution_count": 15,
     "metadata": {},
     "output_type": "execute_result"
    }
   ],
   "source": [
    "# Search for number of dimensions needed to preserve 95% of variance\n",
    "\n",
    "from sklearn.decomposition import PCA\n",
    "\n",
    "pca = PCA()\n",
    "pca.fit(X_train_prepared)\n",
    "cumsum = np.cumsum(pca.explained_variance_ratio_)\n",
    "num_feature_PCA = np.argmax(cumsum >= 0.95) + 1\n",
    "\n",
    "pca = PCA(n_components = num_feature_PCA)\n",
    "pca.fit_transform(X_train_prepared)\n",
    "pca.explained_variance_ratio_\n",
    "\n"
   ]
  },
  {
   "cell_type": "code",
   "execution_count": 16,
   "id": "119b0c03",
   "metadata": {},
   "outputs": [
    {
     "data": {
      "text/plain": [
       "Text(0.5, 1.0, 'n_components vs. Explained Variance Ratio')"
      ]
     },
     "execution_count": 16,
     "metadata": {},
     "output_type": "execute_result"
    },
    {
     "data": {
      "image/png": "[encoded data removed]",
      "text/plain": [
       "<Figure size 600x300 with 1 Axes>"
      ]
     },
     "metadata": {},
     "output_type": "display_data"
    }
   ],
   "source": [
    "# Visualize variance sum with component #s\n",
    "import numpy as np\n",
    "nums = np.arange(df_Final.shape[1])\n",
    "\n",
    "var_ratio = []\n",
    "for num in nums:\n",
    "  pca = PCA(n_components=num)\n",
    "  pca.fit(X_train_prepared)\n",
    "  var_ratio.append(np.sum(pca.explained_variance_ratio_))\n",
    "\n",
    "import matplotlib.pyplot as plt\n",
    "\n",
    "plt.figure(figsize=(4,2),dpi=150)\n",
    "plt.grid()\n",
    "plt.plot(nums,var_ratio,marker='o')\n",
    "plt.xlabel('n_components')\n",
    "plt.ylabel('Explained variance ratio')\n",
    "plt.title('n_components vs. Explained Variance Ratio')"
   ]
  },
  {
   "cell_type": "code",
   "execution_count": 17,
   "id": "75e2a4ac",
   "metadata": {},
   "outputs": [],
   "source": [
    "features_PCA = []\n",
    "for i in range (1, num_feature_PCA+1):\n",
    "    features_PCA.append(f'PCA_{i}')\n",
    "\n",
    "pca = PCA(n_components = num_feature_PCA)\n",
    "X_train_prepared_PCA = pca.fit_transform(X_train_prepared)\n",
    "#print(pd.DataFrame(pca.components_,columns=df_Final.columns[0:X_train_prepared.shape[1]+1],index = [features_PCA]))\n",
    "\n",
    "features_PCA = []\n",
    "for i in range (1, num_feature_PCA+1):\n",
    "    features_PCA.append(f'PCA_{i}')\n",
    "\n",
    "pca = PCA(n_components = num_feature_PCA)\n",
    "X_test_prepared_PCA = pca.fit_transform(X_test_prepared)"
   ]
  },
  {
   "cell_type": "code",
   "execution_count": 18,
   "id": "040a4150",
   "metadata": {},
   "outputs": [
    {
     "data": {
      "text/html": [
       "<style>#sk-container-id-1 {color: black;background-color: white;}#sk-container-id-1 pre{padding: 0;}#sk-container-id-1 div.sk-toggleable {background-color: white;}#sk-container-id-1 label.sk-toggleable__label {cursor: pointer;display: block;width: 100%;margin-bottom: 0;padding: 0.3em;box-sizing: border-box;text-align: center;}#sk-container-id-1 label.sk-toggleable__label-arrow:before {content: \"▸\";float: left;margin-right: 0.25em;color: #696969;}#sk-container-id-1 label.sk-toggleable__label-arrow:hover:before {color: black;}#sk-container-id-1 div.sk-estimator:hover label.sk-toggleable__label-arrow:before {color: black;}#sk-container-id-1 div.sk-toggleable__content {max-height: 0;max-width: 0;overflow: hidden;text-align: left;background-color: #f0f8ff;}#sk-container-id-1 div.sk-toggleable__content pre {margin: 0.2em;color: black;border-radius: 0.25em;background-color: #f0f8ff;}#sk-container-id-1 input.sk-toggleable__control:checked~div.sk-toggleable__content {max-height: 200px;max-width: 100%;overflow: auto;}#sk-container-id-1 input.sk-toggleable__control:checked~label.sk-toggleable__label-arrow:before {content: \"▾\";}#sk-container-id-1 div.sk-estimator input.sk-toggleable__control:checked~label.sk-toggleable__label {background-color: #d4ebff;}#sk-container-id-1 div.sk-label input.sk-toggleable__control:checked~label.sk-toggleable__label {background-color: #d4ebff;}#sk-container-id-1 input.sk-hidden--visually {border: 0;clip: rect(1px 1px 1px 1px);clip: rect(1px, 1px, 1px, 1px);height: 1px;margin: -1px;overflow: hidden;padding: 0;position: absolute;width: 1px;}#sk-container-id-1 div.sk-estimator {font-family: monospace;background-color: #f0f8ff;border: 1px dotted black;border-radius: 0.25em;box-sizing: border-box;margin-bottom: 0.5em;}#sk-container-id-1 div.sk-estimator:hover {background-color: #d4ebff;}#sk-container-id-1 div.sk-parallel-item::after {content: \"\";width: 100%;border-bottom: 1px solid gray;flex-grow: 1;}#sk-container-id-1 div.sk-label:hover label.sk-toggleable__label {background-color: #d4ebff;}#sk-container-id-1 div.sk-serial::before {content: \"\";position: absolute;border-left: 1px solid gray;box-sizing: border-box;top: 0;bottom: 0;left: 50%;z-index: 0;}#sk-container-id-1 div.sk-serial {display: flex;flex-direction: column;align-items: center;background-color: white;padding-right: 0.2em;padding-left: 0.2em;position: relative;}#sk-container-id-1 div.sk-item {position: relative;z-index: 1;}#sk-container-id-1 div.sk-parallel {display: flex;align-items: stretch;justify-content: center;background-color: white;position: relative;}#sk-container-id-1 div.sk-item::before, #sk-container-id-1 div.sk-parallel-item::before {content: \"\";position: absolute;border-left: 1px solid gray;box-sizing: border-box;top: 0;bottom: 0;left: 50%;z-index: -1;}#sk-container-id-1 div.sk-parallel-item {display: flex;flex-direction: column;z-index: 1;position: relative;background-color: white;}#sk-container-id-1 div.sk-parallel-item:first-child::after {align-self: flex-end;width: 50%;}#sk-container-id-1 div.sk-parallel-item:last-child::after {align-self: flex-start;width: 50%;}#sk-container-id-1 div.sk-parallel-item:only-child::after {width: 0;}#sk-container-id-1 div.sk-dashed-wrapped {border: 1px dashed gray;margin: 0 0.4em 0.5em 0.4em;box-sizing: border-box;padding-bottom: 0.4em;background-color: white;}#sk-container-id-1 div.sk-label label {font-family: monospace;font-weight: bold;display: inline-block;line-height: 1.2em;}#sk-container-id-1 div.sk-label-container {text-align: center;}#sk-container-id-1 div.sk-container {/* jupyter's `normalize.less` sets `[hidden] { display: none; }` but bootstrap.min.css set `[hidden] { display: none !important; }` so we also need the `!important` here to be able to override the default hidden behavior on the sphinx rendered scikit-learn.org. See: https://github.com/scikit-learn/scikit-learn/issues/21755 */display: inline-block !important;position: relative;}#sk-container-id-1 div.sk-text-repr-fallback {display: none;}</style><div id=\"sk-container-id-1\" class=\"sk-top-container\"><div class=\"sk-text-repr-fallback\"><pre>RandomForestClassifier(max_leaf_nodes=50, n_estimators=500, n_jobs=-1,\n",
       "                       random_state=69)</pre><b>In a Jupyter environment, please rerun this cell to show the HTML representation or trust the notebook. <br />On GitHub, the HTML representation is unable to render, please try loading this page with nbviewer.org.</b></div><div class=\"sk-container\" hidden><div class=\"sk-item\"><div class=\"sk-estimator sk-toggleable\"><input class=\"sk-toggleable__control sk-hidden--visually\" id=\"sk-estimator-id-1\" type=\"checkbox\" checked><label for=\"sk-estimator-id-1\" class=\"sk-toggleable__label sk-toggleable__label-arrow\">RandomForestClassifier</label><div class=\"sk-toggleable__content\"><pre>RandomForestClassifier(max_leaf_nodes=50, n_estimators=500, n_jobs=-1,\n",
       "                       random_state=69)</pre></div></div></div></div></div>"
      ],
      "text/plain": [
       "RandomForestClassifier(max_leaf_nodes=50, n_estimators=500, n_jobs=-1,\n",
       "                       random_state=69)"
      ]
     },
     "execution_count": 18,
     "metadata": {},
     "output_type": "execute_result"
    }
   ],
   "source": [
    "# Try using a Random Forest\n",
    "from sklearn.ensemble import RandomForestClassifier\n",
    "\n",
    "rnd_clf = RandomForestClassifier(n_estimators=500, max_leaf_nodes=50, n_jobs=-1, random_state=rng)\n",
    "\n",
    "rnd_clf.fit(X_train_prepared_PCA, Y_train)"
   ]
  },
  {
   "cell_type": "code",
   "execution_count": 19,
   "id": "56bda556",
   "metadata": {},
   "outputs": [
    {
     "data": {
      "text/plain": [
       "array([[ 880,  603],\n",
       "       [ 440, 1293]], dtype=int64)"
      ]
     },
     "execution_count": 19,
     "metadata": {},
     "output_type": "execute_result"
    }
   ],
   "source": [
    "from sklearn.model_selection import cross_val_predict\n",
    "Y_train_pred = cross_val_predict(rnd_clf, X_train_prepared_PCA, Y_train, cv=5)\n",
    "\n",
    "from sklearn.metrics import confusion_matrix\n",
    "confusion_matrix(Y_train, Y_train_pred)\n",
    "# [Predict Loss - Actual Loss  |  Predict Win - Actual Loss]\n",
    "# [Predict Loss - Actual Win   |  Predict Win - Actual Win]"
   ]
  },
  {
   "cell_type": "code",
   "execution_count": 20,
   "id": "0eb4dde6",
   "metadata": {},
   "outputs": [
    {
     "name": "stdout",
     "output_type": "stream",
     "text": [
      "When claiming is a win, correct % is  0.6819620253164557\n",
      "Detected % of wins 0.7461050201961916\n",
      "F1 score is  0.712593000826674\n",
      "Training Accuracy score is  0.6756840796019901\n"
     ]
    }
   ],
   "source": [
    "from sklearn.metrics import precision_score, recall_score, f1_score, accuracy_score\n",
    "\n",
    "print('When claiming is a win, correct % is ', precision_score(Y_train, Y_train_pred))\n",
    "print('Detected % of wins' ,recall_score(Y_train, Y_train_pred))\n",
    "print('F1 score is ', f1_score(Y_train, Y_train_pred))\n",
    "print('Training Accuracy score is ', accuracy_score(Y_train, Y_train_pred))\n"
   ]
  },
  {
   "cell_type": "code",
   "execution_count": null,
   "id": "ae6e9a9a",
   "metadata": {},
   "outputs": [],
   "source": []
  },
  {
   "cell_type": "code",
   "execution_count": 28,
   "id": "ef60953d",
   "metadata": {},
   "outputs": [
    {
     "name": "stdout",
     "output_type": "stream",
     "text": [
      "0.9192546583850931\n"
     ]
    }
   ],
   "source": [
    "# Use Test Data\n",
    "Y_pred = rnd_clf.predict(X_test_prepared_PCA)\n",
    "print(accuracy_score(Y_test, Y_pred))"
   ]
  },
  {
   "cell_type": "code",
   "execution_count": 30,
   "id": "7f941dff",
   "metadata": {},
   "outputs": [],
   "source": []
  },
  {
   "cell_type": "code",
   "execution_count": 27,
   "id": "5e26c760",
   "metadata": {},
   "outputs": [],
   "source": []
  },
  {
   "cell_type": "code",
   "execution_count": null,
   "id": "e90cecc8",
   "metadata": {},
   "outputs": [],
   "source": [
    "# Use this to see importance of each feature in the Random Forest\n",
    "# Take colmumn names from Final DataFrame, need to skip the label though\n",
    "\n",
    "for name, score in zip(features_PCA,rnd_clf.feature_importances_):\n",
    "    print(name,round(score*100,2))"
   ]
  },
  {
   "cell_type": "code",
   "execution_count": null,
   "id": "fda17e6f",
   "metadata": {},
   "outputs": [],
   "source": [
    "import pandas as pd\n",
    "\n",
    "forest_importances = pd.Series(rnd_clf.feature_importances_, index=features_PCA)\n",
    "std = np.std([tree.feature_importances_ for tree in rnd_clf.estimators_], axis=0)\n",
    "\n",
    "fig, ax = plt.subplots()\n",
    "forest_importances.plot.bar(yerr=std, ax=ax)\n",
    "ax.set_title(\"Feature importances using MDI\")\n",
    "ax.set_ylabel(\"Mean decrease in impurity\")\n",
    "fig.tight_layout()"
   ]
  },
  {
   "cell_type": "code",
   "execution_count": null,
   "id": "9bdade10",
   "metadata": {},
   "outputs": [],
   "source": [
    "# # High Cardinality (although not the case here) can caues the built in feature_importance to be innacurate\n",
    "# # This method takes longer but is more accurate in those situations\n",
    "\n",
    "# from sklearn.inspection import permutation_importance\n",
    "\n",
    "# result = permutation_importance(\n",
    "#     rnd_clf, nhl_prepared_PCA, nhl_labels, n_repeats=10, random_state=rng, n_jobs=2\n",
    "# )\n",
    "\n",
    "# fig, ax = plt.subplots()\n",
    "# forest_importances.plot.bar(yerr=result.importances_std, ax=ax)\n",
    "# ax.set_title(\"Feature importances using permutation on full model\")\n",
    "# ax.set_ylabel(\"Mean accuracy decrease\")\n",
    "# fig.tight_layout()\n",
    "# plt.show()"
   ]
  },
  {
   "cell_type": "code",
   "execution_count": null,
   "id": "3ed74f05",
   "metadata": {},
   "outputs": [],
   "source": [
    "df_Predict = pd.read_csv(r\"C:\\Users\\zchodaniecky\\OneDrive - Franklin Templeton\\Documents\\Python\\NHL_data\\NHL_Data_Predict.csv\")\n",
    "#df_Predict = pd.read_csv(r\"C:\\Users\\zanec\\OneDrive\\Documents\\Python\\NHL_data\\NHL_Data_Predict.csv\")"
   ]
  },
  {
   "cell_type": "code",
   "execution_count": null,
   "id": "eae8d63d",
   "metadata": {},
   "outputs": [],
   "source": [
    "X_real_predict = df_Predict.iloc[:,2:]\n",
    "\n",
    "X_real_predict_PCA = pca.transform(X_real_predict)\n",
    "\n",
    "\n",
    "np.array((df_Predict.iloc[:,1].values,rnd_clf.predict(X_real_predict_PCA))).T"
   ]
  },
  {
   "cell_type": "code",
   "execution_count": null,
   "id": "c91ad2d2",
   "metadata": {},
   "outputs": [],
   "source": []
  },
  {
   "cell_type": "code",
   "execution_count": null,
   "id": "1818ef65",
   "metadata": {},
   "outputs": [],
   "source": []
  }
 ],
 "metadata": {
  "kernelspec": {
   "display_name": "Python 3 (ipykernel)",
   "language": "python",
   "name": "python3"
  },
  "language_info": {
   "codemirror_mode": {
    "name": "ipython",
    "version": 3
   },
   "file_extension": ".py",
   "mimetype": "text/x-python",
   "name": "python",
   "nbconvert_exporter": "python",
   "pygments_lexer": "ipython3",
   "version": "3.9.12"
  }
 },
 "nbformat": 4,
 "nbformat_minor": 5
}

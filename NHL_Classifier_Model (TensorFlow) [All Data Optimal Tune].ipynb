{
 "cells": [
  {
   "cell_type": "code",
   "execution_count": 101,
   "id": "7018d5cf",
   "metadata": {},
   "outputs": [],
   "source": [
    "# Use with NHL_Model_Data_Transform_v5.py\n",
    "import pandas as pd\n",
    "import numpy as np\n",
    "import seaborn as sns\n",
    "import os\n",
    "import matplotlib.pyplot as plt\n",
    "\n",
    "from tensorflow import keras\n",
    "\n",
    "\n",
    "rng = 69"
   ]
  },
  {
   "cell_type": "code",
   "execution_count": 102,
   "id": "d57c8e42",
   "metadata": {},
   "outputs": [],
   "source": [
    "df = pd.read_csv(r\"C:\\Users\\zchodaniecky\\OneDrive - Franklin Templeton\\Documents\\Python\\NHL_data\\NHL_Data_All_Transformed.csv\")\n",
    "#df = pd.read_csv(r\"C:\\Users\\zanec\\OneDrive\\Documents\\Python\\NHL_data\\NHL_Data_Transformed.csv\")"
   ]
  },
  {
   "cell_type": "code",
   "execution_count": null,
   "id": "592fbdc1",
   "metadata": {},
   "outputs": [],
   "source": []
  },
  {
   "cell_type": "code",
   "execution_count": null,
   "id": "22666c48",
   "metadata": {},
   "outputs": [],
   "source": []
  },
  {
   "cell_type": "code",
   "execution_count": 103,
   "id": "3e1a3ed4",
   "metadata": {},
   "outputs": [],
   "source": [
    "df = df.drop(columns=['team_Home','team_Away','gameId','home_or_away_Home','home_or_away_Away','win_or_lose_Away'])"
   ]
  },
  {
   "cell_type": "code",
   "execution_count": 104,
   "id": "4cb316a0",
   "metadata": {},
   "outputs": [],
   "source": [
    "# df.hist(bins=50, figsize=(20,15))\n",
    "# plt.show()"
   ]
  },
  {
   "cell_type": "code",
   "execution_count": 105,
   "id": "c5b619ee",
   "metadata": {},
   "outputs": [],
   "source": [
    "# Heatmap to visualize correlations\n",
    "corr_matrix = df.corr(numeric_only=True)\n",
    "# sns.heatmap(corr_matrix, cmap=\"PiYG\")"
   ]
  },
  {
   "cell_type": "code",
   "execution_count": 106,
   "id": "7f07f8e8",
   "metadata": {},
   "outputs": [
    {
     "data": {
      "text/plain": [
       "win_or_lose_Home             1.000000\n",
       "seasonPointsPerGame_Home     0.301171\n",
       "fenwickPercentageAvg_Home    0.158833\n",
       "goalDiffAvg_Home             0.111469\n",
       "pointsFromGameAvg_Home       0.105522\n",
       "hitsDiffAvg_Away             0.074194\n",
       "reboundsForAvg_Home          0.059812\n",
       "penaltiesAgainstTotal        0.028012\n",
       "penaltiesForTotal           -0.019402\n",
       "hitsDiffAvg_Home            -0.038123\n",
       "reboundsForAvg_Away         -0.057037\n",
       "pointsFromGameAvg_Away      -0.112578\n",
       "goalDiffAvg_Away            -0.113146\n",
       "fenwickPercentageAvg_Away   -0.164881\n",
       "seasonPointsPerGame_Away    -0.292426\n",
       "Name: win_or_lose_Home, dtype: float64"
      ]
     },
     "execution_count": 106,
     "metadata": {},
     "output_type": "execute_result"
    }
   ],
   "source": [
    "corr_matrix['win_or_lose_Home'].sort_values(ascending=False)"
   ]
  },
  {
   "cell_type": "code",
   "execution_count": 107,
   "id": "0afde53a",
   "metadata": {},
   "outputs": [],
   "source": [
    "# Visualize distributions of attributes\n",
    "# from pandas.plotting import scatter_matrix\n",
    "\n",
    "# attributes = ['fenwickPercentageAvg_Home','goalDiffAvg_Home','seasonPointsPerGame_Home','seasonPointsPerGame_Away']\n",
    "# scatter_matrix(df[attributes], figsize=(12,8));"
   ]
  },
  {
   "cell_type": "code",
   "execution_count": 108,
   "id": "51f8fc80",
   "metadata": {},
   "outputs": [],
   "source": [
    "# These are tentative just to test\n",
    "df_Final = df\n",
    "# df_Final = df.drop(columns=['corsiPercentageAvg_Away','penaltiesAgainstTotal','shotsOnGoalDiffAvg_Away'])"
   ]
  },
  {
   "cell_type": "code",
   "execution_count": 109,
   "id": "0e1164bd",
   "metadata": {},
   "outputs": [],
   "source": [
    "from sklearn.model_selection import train_test_split\n",
    "\n",
    "# Split into 80% training data and 20% testing data\n",
    "train_set, test_set = train_test_split(df_Final, test_size=0.2, random_state=rng)\n",
    "\n",
    "nhl = train_set.drop('win_or_lose_Home', axis=1)\n",
    "nhl_labels = train_set['win_or_lose_Home'].copy()\n",
    "\n",
    "X_train = train_set.drop('win_or_lose_Home', axis=1)\n",
    "Y_train = train_set['win_or_lose_Home'].copy()\n",
    "\n",
    "X_valid = train_set.drop('win_or_lose_Home', axis=1)\n",
    "Y_valid = train_set['win_or_lose_Home'].copy()\n",
    "\n",
    "X_test = test_set.drop('win_or_lose_Home', axis=1)\n",
    "Y_test = test_set['win_or_lose_Home'].copy()\n",
    "\n",
    "df_Final = df_Final.drop('win_or_lose_Home', axis=1)"
   ]
  },
  {
   "cell_type": "code",
   "execution_count": null,
   "id": "610f0a85",
   "metadata": {},
   "outputs": [],
   "source": []
  },
  {
   "cell_type": "code",
   "execution_count": null,
   "id": "3fc1d2bc",
   "metadata": {},
   "outputs": [],
   "source": []
  },
  {
   "cell_type": "code",
   "execution_count": 110,
   "id": "22fb5d7b",
   "metadata": {},
   "outputs": [],
   "source": [
    "# Pipeline constructor used to run transformation steps in order\n",
    "from sklearn.pipeline import Pipeline\n",
    "from sklearn.preprocessing import StandardScaler\n",
    "\n",
    "num_pipeline = Pipeline([\n",
    "    ('std_scaler', StandardScaler()),\n",
    "])\n",
    "\n",
    "X_train_prepared= num_pipeline.fit_transform(X_train)\n",
    "X_valid_prepared= num_pipeline.fit_transform(X_valid)\n",
    "X_test_prepared= num_pipeline.fit_transform(X_test)\n"
   ]
  },
  {
   "cell_type": "code",
   "execution_count": null,
   "id": "e30905c0",
   "metadata": {},
   "outputs": [],
   "source": []
  },
  {
   "cell_type": "code",
   "execution_count": 111,
   "id": "1d484ee7",
   "metadata": {},
   "outputs": [],
   "source": []
  },
  {
   "cell_type": "code",
   "execution_count": 112,
   "id": "768b310d",
   "metadata": {},
   "outputs": [],
   "source": []
  },
  {
   "cell_type": "code",
   "execution_count": 113,
   "id": "040a4150",
   "metadata": {},
   "outputs": [],
   "source": []
  },
  {
   "cell_type": "code",
   "execution_count": 114,
   "id": "22ac7381",
   "metadata": {},
   "outputs": [],
   "source": [
    "# Set parameters\n",
    "hidden_layers = 0\n",
    "neurons = 35\n",
    "learning_rate = 0.00039447935272202665\n",
    "batch_size = 5\n",
    "n_epochs = 80"
   ]
  },
  {
   "cell_type": "code",
   "execution_count": 115,
   "id": "7b204a74",
   "metadata": {},
   "outputs": [],
   "source": [
    "def build_model(n_hidden=hidden_layers, n_neurons=neurons, learning_rate=learning_rate, input_shape=[X_train.shape[1]]):\n",
    "    model = keras.models.Sequential()\n",
    "    model.add(keras.layers.InputLayer(shape=input_shape))\n",
    "    for layer in range(n_hidden):\n",
    "        model.add(keras.layers.Dense(n_neurons,activation='selu',kernel_initializer=\"lecun_normal\"))\n",
    "    model.add(keras.layers.Dense(1, activation='sigmoid'))\n",
    "    optimizer = keras.optimizers.Adam(learning_rate=learning_rate)\n",
    "    model.compile(loss='binary_crossentropy',optimizer=optimizer)\n",
    "    return model"
   ]
  },
  {
   "cell_type": "code",
   "execution_count": 116,
   "id": "de1d6097",
   "metadata": {},
   "outputs": [],
   "source": [
    "from scikeras.wrappers import KerasClassifier\n",
    "\n",
    "# Seems like you need to specify some items again when using the scikeras wrapper\n",
    "keras_clf = KerasClassifier(model=build_model, n_hidden=hidden_layers, n_neurons=neurons, learning_rate=learning_rate)\n"
   ]
  },
  {
   "cell_type": "code",
   "execution_count": 117,
   "id": "d0c5c2c4",
   "metadata": {},
   "outputs": [],
   "source": [
    "from scikeras.wrappers import KerasClassifier\n",
    "\n",
    "# Seems like you need to specify some items again when using the scikeras wrapper\n",
    "keras_clf = KerasClassifier(model=build_model, epochs=n_epochs, batch_size=batch_size, verbose=0, random_state = 42,\n",
    "                           loss='binary_crossentropy',optimizer='adam',metrics='accuracy')\n"
   ]
  },
  {
   "cell_type": "code",
   "execution_count": 118,
   "id": "7ce6ce57",
   "metadata": {},
   "outputs": [],
   "source": [
    "# Stop early if model is not getting better after # of patience epochs, restore to best model\n",
    "early_stopping_cb = keras.callbacks.EarlyStopping(patience = 10, restore_best_weights = True)\n",
    "#checkpoint_cb = keras.callbacks.ModelCheckpoint(\"Regression_Sequential.keras\", save_best_only = True)\n",
    "model_history = keras_clf.fit(X_train_prepared, Y_train, validation_data = (X_valid_prepared, Y_valid),\n",
    "                              callbacks=[early_stopping_cb]).history_\n"
   ]
  },
  {
   "cell_type": "code",
   "execution_count": 119,
   "id": "bd9d7f37",
   "metadata": {},
   "outputs": [],
   "source": [
    "# import pandas as pd\n",
    "# import matplotlib.pyplot as plt\n",
    "# print(model_history.keys())\n",
    "\n",
    "# pd.DataFrame(model_history['loss']).plot(figsize=(8,5))\n",
    "# plt.grid(True)\n",
    "# plt.gca().set_ylim(0.58,0.61) # set the vertical range to [0-1]\n",
    "# plt.show()"
   ]
  },
  {
   "cell_type": "code",
   "execution_count": 120,
   "id": "f8618490",
   "metadata": {},
   "outputs": [],
   "source": []
  },
  {
   "cell_type": "code",
   "execution_count": 121,
   "id": "56bda556",
   "metadata": {},
   "outputs": [
    {
     "data": {
      "text/plain": [
       "array([[1020,  611],\n",
       "       [ 526, 1311]], dtype=int64)"
      ]
     },
     "execution_count": 121,
     "metadata": {},
     "output_type": "execute_result"
    }
   ],
   "source": [
    "from sklearn.model_selection import cross_val_predict\n",
    "from sklearn.model_selection import StratifiedKFold\n",
    "\n",
    "\n",
    "kfold = StratifiedKFold(n_splits=5, random_state=42, shuffle=True)\n",
    "Y_pred = cross_val_predict(keras_clf, X_train_prepared, Y_train, cv=kfold)\n",
    "\n",
    "from sklearn.metrics import confusion_matrix\n",
    "confusion_matrix(Y_train, Y_pred)\n",
    "# [Predict Loss - Actual Loss  |  Predict Win - Actual Loss]\n",
    "# [Predict Loss - Actual Win   |  Predict Win - Actual Win]"
   ]
  },
  {
   "cell_type": "code",
   "execution_count": 122,
   "id": "0eb4dde6",
   "metadata": {},
   "outputs": [
    {
     "name": "stdout",
     "output_type": "stream",
     "text": [
      "When claiming is a win, correct % is  0.68210197710718\n",
      "Detected % of wins 0.713663581927055\n",
      "F1 score is  0.6975259377494014\n",
      "Training Accuracy score is  0.6721453287197232\n"
     ]
    }
   ],
   "source": [
    "from sklearn.metrics import precision_score, recall_score, f1_score, accuracy_score\n",
    "\n",
    "print('When claiming is a win, correct % is ', precision_score(Y_train, Y_pred))\n",
    "print('Detected % of wins' ,recall_score(Y_train, Y_pred))\n",
    "print('F1 score is ', f1_score(Y_train, Y_pred))\n",
    "print('Training Accuracy score is ', accuracy_score(Y_train, Y_pred))\n"
   ]
  },
  {
   "cell_type": "code",
   "execution_count": 123,
   "id": "ae6e9a9a",
   "metadata": {},
   "outputs": [
    {
     "name": "stdout",
     "output_type": "stream",
     "text": [
      "0.6747404844290658\n",
      "0.7091503267973857\n"
     ]
    }
   ],
   "source": [
    "# Train Accuracy\n",
    "Y_train_pred = keras_clf.predict(X_train_prepared)\n",
    "print(accuracy_score(Y_train, Y_train_pred))\n",
    "\n",
    "Y_test_pred = keras_clf.predict(X_test_prepared)\n",
    "print(accuracy_score(Y_test, Y_test_pred))"
   ]
  },
  {
   "cell_type": "code",
   "execution_count": null,
   "id": "ef60953d",
   "metadata": {},
   "outputs": [],
   "source": []
  },
  {
   "cell_type": "code",
   "execution_count": 124,
   "id": "3ed74f05",
   "metadata": {},
   "outputs": [],
   "source": [
    "df_Predict = pd.read_csv(r\"C:\\Users\\zchodaniecky\\OneDrive - Franklin Templeton\\Documents\\Python\\NHL_data\\NHL_Data_Predict.csv\")\n",
    "#df_Predict = pd.read_csv(r\"C:\\Users\\zanec\\OneDrive\\Documents\\Python\\NHL_data\\NHL_Data_Predict.csv\")"
   ]
  },
  {
   "cell_type": "code",
   "execution_count": 125,
   "id": "eae8d63d",
   "metadata": {},
   "outputs": [
    {
     "data": {
      "text/plain": [
       "array([['TBL', 1],\n",
       "       ['DET', 1],\n",
       "       ['PIT', 0],\n",
       "       ['NJD', 1]], dtype=object)"
      ]
     },
     "execution_count": 125,
     "metadata": {},
     "output_type": "execute_result"
    }
   ],
   "source": [
    "X_real_predict = df_Predict.iloc[:,2:]\n",
    "\n",
    "np.array((df_Predict.iloc[:,1].values,keras_clf.predict(X_real_predict))).T"
   ]
  },
  {
   "cell_type": "code",
   "execution_count": null,
   "id": "c91ad2d2",
   "metadata": {},
   "outputs": [],
   "source": []
  },
  {
   "cell_type": "code",
   "execution_count": null,
   "id": "1818ef65",
   "metadata": {},
   "outputs": [],
   "source": []
  }
 ],
 "metadata": {
  "kernelspec": {
   "display_name": "Python 3 (ipykernel)",
   "language": "python",
   "name": "python3"
  },
  "language_info": {
   "codemirror_mode": {
    "name": "ipython",
    "version": 3
   },
   "file_extension": ".py",
   "mimetype": "text/x-python",
   "name": "python",
   "nbconvert_exporter": "python",
   "pygments_lexer": "ipython3",
   "version": "3.9.12"
  }
 },
 "nbformat": 4,
 "nbformat_minor": 5
}
